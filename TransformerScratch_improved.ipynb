{
  "cells": [
    {
      "cell_type": "markdown",
      "source": [
        "# The Transformer of Chollet\n",
        "The Transformer of Chollet (2021) is used with the English-Dutch dataset instead of the English-Spanish dataset used in Chapter 11 of *Deep Learning with Python*."
      ],
      "metadata": {
        "id": "l43w0WOVvPXs"
      },
      "id": "l43w0WOVvPXs"
    },
    {
      "cell_type": "code",
      "execution_count": 1,
      "id": "129e4bc7",
      "metadata": {
        "colab": {
          "base_uri": "https://localhost:8080/"
        },
        "id": "129e4bc7",
        "outputId": "f9e3e69b-977c-4e83-c9c1-aacbcd789488"
      },
      "outputs": [
        {
          "output_type": "stream",
          "name": "stdout",
          "text": [
            "--2022-12-13 10:11:36--  https://www.manythings.org/anki/nld-eng.zip\n",
            "Resolving www.manythings.org (www.manythings.org)... 173.254.30.110\n",
            "Connecting to www.manythings.org (www.manythings.org)|173.254.30.110|:443... connected.\n",
            "HTTP request sent, awaiting response... 200 OK\n",
            "Length: 2507659 (2.4M) [application/zip]\n",
            "Saving to: ‘nld-eng.zip.1’\n",
            "\n",
            "nld-eng.zip.1       100%[===================>]   2.39M  1.49MB/s    in 1.6s    \n",
            "\n",
            "2022-12-13 10:11:38 (1.49 MB/s) - ‘nld-eng.zip.1’ saved [2507659/2507659]\n",
            "\n",
            "replace _about.txt? [y]es, [n]o, [A]ll, [N]one, [r]ename: y\n",
            "replace nld.txt? [y]es, [n]o, [A]ll, [N]one, [r]ename: y\n"
          ]
        }
      ],
      "source": [
        "!wget https://www.manythings.org/anki/nld-eng.zip\n",
        "!unzip -q nld-eng.zip"
      ]
    },
    {
      "cell_type": "code",
      "execution_count": 2,
      "id": "c4ab7b27",
      "metadata": {
        "id": "c4ab7b27"
      },
      "outputs": [],
      "source": [
        "text_file = \"nld.txt\"\n",
        "with open(text_file) as f:\n",
        "    lines = f.read().split(\"\\n\")[:-1]\n",
        "text_pairs = []\n",
        "for line in lines:\n",
        "    english, dutch, copyright = line.split(\"\\t\")\n",
        "    dutch = \"[start] \" + dutch + \" [end]\"\n",
        "    text_pairs.append((english, dutch))"
      ]
    },
    {
      "cell_type": "code",
      "source": [
        "import random\n",
        "random.shuffle(text_pairs)\n",
        "num_val_samples = int(0.15 * len(text_pairs))\n",
        "num_train_samples = len(text_pairs) - 2 * num_val_samples\n",
        "train_pairs = text_pairs[:num_train_samples]\n",
        "val_pairs = text_pairs[num_train_samples:num_train_samples + num_val_samples]\n",
        "test_pairs = text_pairs[num_train_samples + num_val_samples:]"
      ],
      "metadata": {
        "id": "-ko1IX4MRj_Z"
      },
      "id": "-ko1IX4MRj_Z",
      "execution_count": 3,
      "outputs": []
    },
    {
      "cell_type": "markdown",
      "source": [
        "Vectorizing the English and Dutch text pairs"
      ],
      "metadata": {
        "id": "GVj_L-q1R12_"
      },
      "id": "GVj_L-q1R12_"
    },
    {
      "cell_type": "code",
      "source": [
        "import tensorflow as tf\n",
        "import string\n",
        "import re\n",
        "from tensorflow.python.keras import layers\n",
        "\n",
        "strip_chars = string.punctuation\n",
        "strip_chars = strip_chars.replace(\"[\", \"\")\n",
        "strip_chars = strip_chars.replace(\"]\", \"\")\n",
        "\n",
        "def custom_standardization(input_string):\n",
        "    lowercase = tf.strings.lower(input_string)\n",
        "    return tf.strings.regex_replace(\n",
        "        lowercase, f\"[{re.escape(strip_chars)}]\", \"\")\n",
        "\n",
        "vocab_size = 15000\n",
        "sequence_length = 20\n",
        "\n",
        "source_vectorization = tf.keras.layers.TextVectorization(\n",
        "    max_tokens=vocab_size,\n",
        "    output_mode=\"int\",\n",
        "    output_sequence_length=sequence_length,\n",
        ")\n",
        "target_vectorization = tf.keras.layers.TextVectorization(\n",
        "    max_tokens=vocab_size,\n",
        "    output_mode=\"int\",\n",
        "    output_sequence_length=sequence_length + 1,\n",
        "    standardize=custom_standardization,\n",
        ")\n",
        "train_english_texts = [pair[0] for pair in train_pairs]\n",
        "train_dutch_texts = [pair[1] for pair in train_pairs]\n",
        "source_vectorization.adapt(train_english_texts)\n",
        "target_vectorization.adapt(train_dutch_texts)"
      ],
      "metadata": {
        "id": "PQ9-Cx3PRxhI"
      },
      "id": "PQ9-Cx3PRxhI",
      "execution_count": 4,
      "outputs": []
    },
    {
      "cell_type": "markdown",
      "source": [
        "Preparing datasets for the translation task"
      ],
      "metadata": {
        "id": "7eiaTb1ISBSw"
      },
      "id": "7eiaTb1ISBSw"
    },
    {
      "cell_type": "code",
      "source": [
        "batch_size = 64\n",
        "\n",
        "def format_dataset(eng, nld):\n",
        "    eng = source_vectorization(eng)\n",
        "    nld = target_vectorization(nld)\n",
        "    return ({\n",
        "        \"english\": eng,\n",
        "        \"dutch\": nld[:, :-1],\n",
        "    }, nld[:, 1:])\n",
        "\n",
        "def make_dataset(pairs):\n",
        "    eng_texts, nld_texts = zip(*pairs)\n",
        "    eng_texts = list(eng_texts)\n",
        "    nld_texts = list(nld_texts)\n",
        "    dataset = tf.data.Dataset.from_tensor_slices((eng_texts, nld_texts))\n",
        "    dataset = dataset.batch(batch_size)\n",
        "    dataset = dataset.map(format_dataset, num_parallel_calls=4)\n",
        "    return dataset.shuffle(2048).prefetch(16).cache()\n",
        "\n",
        "train_ds = make_dataset(train_pairs)\n",
        "val_ds = make_dataset(val_pairs)\n",
        "test_ds = make_dataset(test_pairs)"
      ],
      "metadata": {
        "id": "eJlniJXMRxeP"
      },
      "id": "eJlniJXMRxeP",
      "execution_count": 5,
      "outputs": []
    },
    {
      "cell_type": "code",
      "source": [
        "for inputs, targets in train_ds.take(1):\n",
        "    print(f\"inputs['english'].shape: {inputs['english'].shape}\")\n",
        "    print(f\"inputs['dutch'].shape: {inputs['dutch'].shape}\")\n",
        "    print(f\"targets.shape: {targets.shape}\")"
      ],
      "metadata": {
        "colab": {
          "base_uri": "https://localhost:8080/"
        },
        "id": "xO4wZOPDRxbP",
        "outputId": "cd8c4908-cb70-44f9-a293-2dc8dec9d442"
      },
      "id": "xO4wZOPDRxbP",
      "execution_count": 6,
      "outputs": [
        {
          "output_type": "stream",
          "name": "stdout",
          "text": [
            "inputs['english'].shape: (64, 20)\n",
            "inputs['dutch'].shape: (64, 20)\n",
            "targets.shape: (64, 20)\n"
          ]
        }
      ]
    },
    {
      "cell_type": "markdown",
      "source": [
        "Sequence to sequence learning for Transformer model"
      ],
      "metadata": {
        "id": "sNixR_uYSOFy"
      },
      "id": "sNixR_uYSOFy"
    },
    {
      "cell_type": "code",
      "source": [
        "class TransformerEncoder(layers.Layer):\n",
        "    def __init__(self, embed_dim, dense_dim, num_heads, **kwargs):\n",
        "        super().__init__(**kwargs)\n",
        "        self.embed_dim = embed_dim\n",
        "        self.dense_dim = dense_dim\n",
        "        self.num_heads = num_heads\n",
        "        self.attention = layers.MultiHeadAttention(\n",
        "            num_heads=num_heads, key_dim=embed_dim)\n",
        "        self.dense_proj = tf.keras.Sequential(\n",
        "            [layers.Dense(dense_dim, activation=\"relu\"),\n",
        "             layers.Dense(embed_dim),]\n",
        "        )\n",
        "        self.layernorm_1 = layers.LayerNormalization()\n",
        "        self.layernorm_2 = layers.LayerNormalization()\n",
        "\n",
        "    def call(self, inputs, mask=None):\n",
        "        if mask is not None:\n",
        "            mask = mask[:, tf.newaxis, :]\n",
        "        attention_output = self.attention(\n",
        "            inputs, inputs, attention_mask=mask)\n",
        "        proj_input = self.layernorm_1(inputs + attention_output)\n",
        "        proj_output = self.dense_proj(proj_input)\n",
        "        return self.layernorm_2(proj_input + proj_output)\n",
        "\n",
        "    def get_config(self):\n",
        "        config = super().get_config()\n",
        "        config.update({\n",
        "            \"embed_dim\": self.embed_dim,\n",
        "            \"num_heads\": self.num_heads,\n",
        "            \"dense_dim\": self.dense_dim,\n",
        "        })\n",
        "        return config"
      ],
      "metadata": {
        "id": "7oh7ioZbXZ69"
      },
      "id": "7oh7ioZbXZ69",
      "execution_count": null,
      "outputs": []
    },
    {
      "cell_type": "code",
      "source": [
        "class TransformerDecoder(layers.Layer):\n",
        "    def __init__(self, embed_dim, dense_dim, num_heads, **kwargs):\n",
        "        super().__init__(**kwargs)\n",
        "        self.embed_dim = embed_dim\n",
        "        self.dense_dim = dense_dim\n",
        "        self.num_heads = num_heads\n",
        "        self.attention_1 = layers.MultiHeadAttention(\n",
        "            num_heads=num_heads, key_dim=embed_dim)\n",
        "        self.attention_2 = layers.MultiHeadAttention(\n",
        "            num_heads=num_heads, key_dim=embed_dim)\n",
        "        self.dense_proj = tf.keras.Sequential(\n",
        "            [layers.Dense(dense_dim, activation=\"relu\"),\n",
        "             layers.Dense(embed_dim),]\n",
        "        )\n",
        "        self.layernorm_1 = layers.LayerNormalization()\n",
        "        self.layernorm_2 = layers.LayerNormalization()\n",
        "        self.layernorm_3 = layers.LayerNormalization()\n",
        "        self.supports_masking = True\n",
        "\n",
        "    def get_config(self):\n",
        "        config = super().get_config()\n",
        "        config.update({\n",
        "            \"embed_dim\": self.embed_dim,\n",
        "            \"num_heads\": self.num_heads,\n",
        "            \"dense_dim\": self.dense_dim,\n",
        "        })\n",
        "        return config\n",
        "\n",
        "    def get_causal_attention_mask(self, inputs):\n",
        "        input_shape = tf.shape(inputs)\n",
        "        batch_size, sequence_length = input_shape[0], input_shape[1]\n",
        "        i = tf.range(sequence_length)[:, tf.newaxis]\n",
        "        j = tf.range(sequence_length)\n",
        "        mask = tf.cast(i >= j, dtype=\"int32\")\n",
        "        mask = tf.reshape(mask, (1, input_shape[1], input_shape[1]))\n",
        "        mult = tf.concat(\n",
        "            [tf.expand_dims(batch_size, -1),\n",
        "             tf.constant([1, 1], dtype=tf.int32)], axis=0)\n",
        "        return tf.tile(mask, mult)\n",
        "\n",
        "    def call(self, inputs, encoder_outputs, mask=None):\n",
        "        causal_mask = self.get_causal_attention_mask(inputs)\n",
        "        if mask is not None:\n",
        "            padding_mask = tf.cast(\n",
        "                mask[:, tf.newaxis, :], dtype=\"int32\")\n",
        "            padding_mask = tf.minimum(padding_mask, causal_mask)\n",
        "        attention_output_1 = self.attention_1(\n",
        "            query=inputs,\n",
        "            value=inputs,\n",
        "            key=inputs,\n",
        "            attention_mask=causal_mask)\n",
        "        attention_output_1 = self.layernorm_1(inputs + attention_output_1)\n",
        "        attention_output_2 = self.attention_2(\n",
        "            query=attention_output_1,\n",
        "            value=encoder_outputs,\n",
        "            key=encoder_outputs,\n",
        "            attention_mask=padding_mask,\n",
        "        )\n",
        "        attention_output_2 = self.layernorm_2(\n",
        "            attention_output_1 + attention_output_2)\n",
        "        proj_output = self.dense_proj(attention_output_2)\n",
        "        return self.layernorm_3(attention_output_2 + proj_output)"
      ],
      "metadata": {
        "id": "R4QdsC52RxYb"
      },
      "id": "R4QdsC52RxYb",
      "execution_count": null,
      "outputs": []
    },
    {
      "cell_type": "markdown",
      "source": [
        "Positional Embedding"
      ],
      "metadata": {
        "id": "gmnudesvSiJh"
      },
      "id": "gmnudesvSiJh"
    },
    {
      "cell_type": "code",
      "source": [
        "class PositionalEmbedding(layers.Layer):\n",
        "    def __init__(self, sequence_length, input_dim, output_dim, **kwargs):\n",
        "        super().__init__(**kwargs)\n",
        "        self.token_embeddings = layers.Embedding(\n",
        "            input_dim=input_dim, output_dim=output_dim)\n",
        "        self.position_embeddings = layers.Embedding(\n",
        "            input_dim=sequence_length, output_dim=output_dim)\n",
        "        self.sequence_length = sequence_length\n",
        "        self.input_dim = input_dim\n",
        "        self.output_dim = output_dim\n",
        "\n",
        "    def call(self, inputs):\n",
        "        length = tf.shape(inputs)[-1]\n",
        "        positions = tf.range(start=0, limit=length, delta=1)\n",
        "        embedded_tokens = self.token_embeddings(inputs)\n",
        "        embedded_positions = self.position_embeddings(positions)\n",
        "        return embedded_tokens + embedded_positions\n",
        "\n",
        "    def compute_mask(self, inputs, mask=None):\n",
        "        return tf.math.not_equal(inputs, 0)\n",
        "\n",
        "    def get_config(self):\n",
        "        config = super(PositionalEmbedding, self).get_config()\n",
        "        config.update({\n",
        "            \"output_dim\": self.output_dim,\n",
        "            \"sequence_length\": self.sequence_length,\n",
        "            \"input_dim\": self.input_dim,\n",
        "        })\n",
        "        return config"
      ],
      "metadata": {
        "id": "JJc8k04rShsI"
      },
      "id": "JJc8k04rShsI",
      "execution_count": null,
      "outputs": []
    },
    {
      "cell_type": "markdown",
      "source": [
        "End to end transformer"
      ],
      "metadata": {
        "id": "hIZIp0pJSnXi"
      },
      "id": "hIZIp0pJSnXi"
    },
    {
      "cell_type": "code",
      "source": [
        "import tensorflow as tf\n",
        "from tensorflow import keras\n",
        "from tensorflow.keras import layers, Sequential\n",
        "from tensorflow.keras.layers import LayerNormalization\n",
        "\n",
        "embed_dim = 256\n",
        "dense_dim = 2048\n",
        "num_heads = 8\n",
        "\n",
        "encoder_inputs = tf.keras.Input(shape=(None,), dtype=\"int64\", name=\"english\")\n",
        "x = PositionalEmbedding(sequence_length, vocab_size, embed_dim)(encoder_inputs)\n",
        "encoder_outputs = TransformerEncoder(embed_dim, dense_dim, num_heads)(x)\n",
        "\n",
        "decoder_inputs = tf.keras.Input(shape=(None,), dtype=\"int64\", name=\"dutch\")\n",
        "x = PositionalEmbedding(sequence_length, vocab_size, embed_dim)(decoder_inputs)\n",
        "x = TransformerDecoder(embed_dim, dense_dim, num_heads)(x, encoder_outputs)\n",
        "x = layers.Dropout(0.5)(x)\n",
        "decoder_outputs = tf.keras.layers.Dense(vocab_size, activation=\"softmax\")(x)\n",
        "transformer = tf.keras.Model([encoder_inputs, decoder_inputs], decoder_outputs)"
      ],
      "metadata": {
        "id": "dy_BnO3ZRxTy"
      },
      "id": "dy_BnO3ZRxTy",
      "execution_count": null,
      "outputs": []
    },
    {
      "cell_type": "markdown",
      "source": [
        "Train"
      ],
      "metadata": {
        "id": "rPKOZ7sPSr7W"
      },
      "id": "rPKOZ7sPSr7W"
    },
    {
      "cell_type": "code",
      "source": [
        "transformer.compile(\n",
        "    optimizer=\"rmsprop\",\n",
        "    loss=\"sparse_categorical_crossentropy\",\n",
        "    metrics=[\"accuracy\"])\n",
        "history = transformer.fit(train_ds, epochs=30, validation_data=val_ds)"
      ],
      "metadata": {
        "colab": {
          "base_uri": "https://localhost:8080/"
        },
        "id": "V2Ir42chRxQ3",
        "outputId": "0ca327f6-7837-4cd3-ebb4-7271b280f733"
      },
      "id": "V2Ir42chRxQ3",
      "execution_count": null,
      "outputs": [
        {
          "output_type": "stream",
          "name": "stdout",
          "text": [
            "Epoch 1/30\n",
            "772/772 [==============================] - 63s 68ms/step - loss: 1.6902 - accuracy: 0.7672 - val_loss: 1.3626 - val_accuracy: 0.8143\n",
            "Epoch 2/30\n",
            "772/772 [==============================] - 53s 68ms/step - loss: 1.2385 - accuracy: 0.8231 - val_loss: 1.1098 - val_accuracy: 0.8390\n",
            "Epoch 3/30\n",
            "772/772 [==============================] - 53s 68ms/step - loss: 1.0827 - accuracy: 0.8429 - val_loss: 1.0126 - val_accuracy: 0.8511\n",
            "Epoch 4/30\n",
            "772/772 [==============================] - 53s 68ms/step - loss: 0.9744 - accuracy: 0.8564 - val_loss: 0.9360 - val_accuracy: 0.8620\n",
            "Epoch 5/30\n",
            "772/772 [==============================] - 53s 68ms/step - loss: 0.9105 - accuracy: 0.8654 - val_loss: 0.9126 - val_accuracy: 0.8659\n",
            "Epoch 6/30\n",
            "772/772 [==============================] - 53s 69ms/step - loss: 0.8734 - accuracy: 0.8724 - val_loss: 0.8970 - val_accuracy: 0.8695\n",
            "Epoch 7/30\n",
            "772/772 [==============================] - 53s 68ms/step - loss: 0.8411 - accuracy: 0.8777 - val_loss: 0.8923 - val_accuracy: 0.8710\n",
            "Epoch 8/30\n",
            "772/772 [==============================] - 52s 68ms/step - loss: 0.8157 - accuracy: 0.8821 - val_loss: 0.8862 - val_accuracy: 0.8732\n",
            "Epoch 9/30\n",
            "772/772 [==============================] - 52s 68ms/step - loss: 0.7940 - accuracy: 0.8864 - val_loss: 0.8822 - val_accuracy: 0.8750\n",
            "Epoch 10/30\n",
            "772/772 [==============================] - 52s 68ms/step - loss: 0.7761 - accuracy: 0.8900 - val_loss: 0.8804 - val_accuracy: 0.8763\n",
            "Epoch 11/30\n",
            "772/772 [==============================] - 53s 68ms/step - loss: 0.7602 - accuracy: 0.8932 - val_loss: 0.8774 - val_accuracy: 0.8782\n",
            "Epoch 12/30\n",
            "772/772 [==============================] - 53s 68ms/step - loss: 0.7465 - accuracy: 0.8959 - val_loss: 0.8776 - val_accuracy: 0.8794\n",
            "Epoch 13/30\n",
            "772/772 [==============================] - 53s 69ms/step - loss: 0.7338 - accuracy: 0.8988 - val_loss: 0.8791 - val_accuracy: 0.8791\n",
            "Epoch 14/30\n",
            "772/772 [==============================] - 54s 70ms/step - loss: 0.7219 - accuracy: 0.9016 - val_loss: 0.8858 - val_accuracy: 0.8792\n",
            "Epoch 15/30\n",
            "772/772 [==============================] - 53s 69ms/step - loss: 0.7106 - accuracy: 0.9033 - val_loss: 0.8850 - val_accuracy: 0.8792\n",
            "Epoch 16/30\n",
            "772/772 [==============================] - 53s 68ms/step - loss: 0.7012 - accuracy: 0.9054 - val_loss: 0.8888 - val_accuracy: 0.8804\n",
            "Epoch 17/30\n",
            "772/772 [==============================] - 52s 68ms/step - loss: 0.6908 - accuracy: 0.9077 - val_loss: 0.8932 - val_accuracy: 0.8808\n",
            "Epoch 18/30\n",
            "772/772 [==============================] - 52s 68ms/step - loss: 0.6814 - accuracy: 0.9095 - val_loss: 0.8934 - val_accuracy: 0.8807\n",
            "Epoch 19/30\n",
            "772/772 [==============================] - 52s 68ms/step - loss: 0.6733 - accuracy: 0.9107 - val_loss: 0.9044 - val_accuracy: 0.8782\n",
            "Epoch 20/30\n",
            "772/772 [==============================] - 52s 68ms/step - loss: 0.6649 - accuracy: 0.9122 - val_loss: 0.8959 - val_accuracy: 0.8817\n",
            "Epoch 21/30\n",
            "772/772 [==============================] - 52s 68ms/step - loss: 0.6565 - accuracy: 0.9140 - val_loss: 0.9078 - val_accuracy: 0.8808\n",
            "Epoch 22/30\n",
            "772/772 [==============================] - 52s 68ms/step - loss: 0.6490 - accuracy: 0.9151 - val_loss: 0.9131 - val_accuracy: 0.8794\n",
            "Epoch 23/30\n",
            "772/772 [==============================] - 52s 68ms/step - loss: 0.6415 - accuracy: 0.9164 - val_loss: 0.9143 - val_accuracy: 0.8811\n",
            "Epoch 24/30\n",
            "772/772 [==============================] - 52s 68ms/step - loss: 0.6346 - accuracy: 0.9180 - val_loss: 0.9242 - val_accuracy: 0.8796\n",
            "Epoch 25/30\n",
            "772/772 [==============================] - 52s 68ms/step - loss: 0.6275 - accuracy: 0.9189 - val_loss: 0.9251 - val_accuracy: 0.8802\n",
            "Epoch 26/30\n",
            "772/772 [==============================] - 53s 68ms/step - loss: 0.6209 - accuracy: 0.9201 - val_loss: 0.9305 - val_accuracy: 0.8797\n",
            "Epoch 27/30\n",
            "772/772 [==============================] - 52s 68ms/step - loss: 0.6152 - accuracy: 0.9211 - val_loss: 0.9297 - val_accuracy: 0.8811\n",
            "Epoch 28/30\n",
            "772/772 [==============================] - 52s 68ms/step - loss: 0.6085 - accuracy: 0.9224 - val_loss: 0.9350 - val_accuracy: 0.8814\n",
            "Epoch 29/30\n",
            "772/772 [==============================] - 52s 68ms/step - loss: 0.6037 - accuracy: 0.9231 - val_loss: 0.9454 - val_accuracy: 0.8800\n",
            "Epoch 30/30\n",
            "772/772 [==============================] - 52s 68ms/step - loss: 0.5972 - accuracy: 0.9240 - val_loss: 0.9412 - val_accuracy: 0.8807\n"
          ]
        }
      ]
    },
    {
      "cell_type": "code",
      "source": [
        "import matplotlib.pyplot as plt\n",
        "\n",
        "loss_train = history.history['loss']\n",
        "loss_val = history.history['val_loss']\n",
        "epochs = range(1,31)\n",
        "plt.plot(epochs, loss_train, 'g', label='Training loss')\n",
        "plt.plot(epochs, loss_val, 'b', label='validation loss')\n",
        "plt.title('Training and Validation loss')\n",
        "plt.xlabel('Epochs')\n",
        "plt.ylabel('Loss')\n",
        "plt.legend()\n",
        "plt.show()\n",
        "\n",
        "loss_train = history.history['accuracy']\n",
        "loss_val = history.history['val_accuracy']\n",
        "epochs = range(1,31)\n",
        "plt.plot(epochs, loss_train, 'g', label='Training accuracy')\n",
        "plt.plot(epochs, loss_val, 'b', label='validation accuracy')\n",
        "plt.title('Training and Validation accuracy')\n",
        "plt.xlabel('Epochs')\n",
        "plt.ylabel('Accuracy')\n",
        "plt.legend()\n",
        "plt.show()"
      ],
      "metadata": {
        "id": "peGlYwzfaiM8",
        "colab": {
          "base_uri": "https://localhost:8080/",
          "height": 573
        },
        "outputId": "4ee81219-030a-4b07-f034-512fe6383e04"
      },
      "id": "peGlYwzfaiM8",
      "execution_count": null,
      "outputs": [
        {
          "output_type": "display_data",
          "data": {
            "text/plain": [
              "<Figure size 432x288 with 1 Axes>"
            ],
            "image/png": "[encoded data removed]"
          },
          "metadata": {
            "needs_background": "light"
          }
        },
        {
          "output_type": "display_data",
          "data": {
            "text/plain": [
              "<Figure size 432x288 with 1 Axes>"
            ],
            "image/png": "[encoded data removed]"
          },
          "metadata": {
            "needs_background": "light"
          }
        }
      ]
    },
    {
      "cell_type": "markdown",
      "source": [
        "Translating new sentences"
      ],
      "metadata": {
        "id": "s0rRWVJ3Sx9k"
      },
      "id": "s0rRWVJ3Sx9k"
    },
    {
      "cell_type": "code",
      "source": [
        "test_acc = transformer.evaluate(test_ds)"
      ],
      "metadata": {
        "colab": {
          "base_uri": "https://localhost:8080/"
        },
        "id": "5q6PUVvB3Nra",
        "outputId": "d30c08c1-f124-42ab-c42d-cc9675e92bc7"
      },
      "id": "5q6PUVvB3Nra",
      "execution_count": null,
      "outputs": [
        {
          "output_type": "stream",
          "name": "stdout",
          "text": [
            "166/166 [==============================] - 6s 33ms/step - loss: 0.9227 - accuracy: 0.8811\n"
          ]
        }
      ]
    },
    {
      "cell_type": "code",
      "source": [
        "import numpy as np\n",
        "import random\n",
        "\n",
        "random.seed(10)\n",
        "\n",
        "nld_vocab = target_vectorization.get_vocabulary()\n",
        "nld_index_lookup = dict(zip(range(len(nld_vocab)), nld_vocab))\n",
        "max_decoded_sentence_length = 20\n",
        "\n",
        "def decode_sequence(input_sentence):\n",
        "    tokenized_input_sentence = source_vectorization([input_sentence])\n",
        "    decoded_sentence = \"[start]\"\n",
        "    for i in range(max_decoded_sentence_length):\n",
        "        tokenized_target_sentence = target_vectorization(\n",
        "            [decoded_sentence])[:, :-1]\n",
        "        predictions = transformer(\n",
        "            [tokenized_input_sentence, tokenized_target_sentence])\n",
        "        sampled_token_index = np.argmax(predictions[0, i, :])\n",
        "        sampled_token = nld_index_lookup[sampled_token_index]\n",
        "        decoded_sentence += \" \" + sampled_token\n",
        "        if sampled_token == \"[end]\":\n",
        "            break\n",
        "    return decoded_sentence\n",
        "\n",
        "test_eng_texts = [pair[0] for pair in test_pairs]\n",
        "for _ in range(20):\n",
        "    input_sentence = random.choice(test_eng_texts)\n",
        "    print(\"-\")\n",
        "    print(input_sentence)\n",
        "    print(decode_sequence(input_sentence))"
      ],
      "metadata": {
        "id": "dVo1X8oSSwIq",
        "colab": {
          "base_uri": "https://localhost:8080/"
        },
        "outputId": "e49719aa-4dd5-4ef4-8c84-88b332068e7e"
      },
      "id": "dVo1X8oSSwIq",
      "execution_count": null,
      "outputs": [
        {
          "output_type": "stream",
          "name": "stdout",
          "text": [
            "-\n",
            "I don't think Tom even saw me.\n",
            "[start] ik denk niet dat tom me eens heeft gezien [end]\n",
            "-\n",
            "I'm an archaeologist.\n",
            "[start] ik ben een een een een een een een een een een een een een een een een een een\n",
            "-\n",
            "Who fired Tom?\n",
            "[start] wie heeft tom ontslagen [end]\n",
            "-\n",
            "We need to invest in clean, renewable energy.\n",
            "[start] we moeten in de [end]\n",
            "-\n",
            "Ignore it.\n",
            "[start] je moet in [end]\n",
            "-\n",
            "Tom is lying to you.\n",
            "[start] tom liegt tegen je [end]\n",
            "-\n",
            "It's very difficult to know yourself.\n",
            "[start] het is heel moeilijk om te kunnen weten [end]\n",
            "-\n",
            "Are you in danger?\n",
            "[start] zijn jullie in gevaar [end]\n",
            "-\n",
            "How many days do you estimate it'll take Tom to do that?\n",
            "[start] hoeveel dagen staan jullie om tom zal dat er mee mee te doen [end]\n",
            "-\n",
            "What do you have in your hand?\n",
            "[start] wat hebt ge in uw hand [end]\n",
            "-\n",
            "Why shouldn't I do that?\n",
            "[start] waarom zou ik dat niet moeten doen [end]\n",
            "-\n",
            "My aunt sent me a birthday present.\n",
            "[start] mijn tante heb me een cadeau naar er een cadeau geweest [end]\n",
            "-\n",
            "I hear that.\n",
            "[start] dat hoor ik [end]\n",
            "-\n",
            "As always, I could only hope the police wouldn't stop me.\n",
            "[start] zo heb ik mijn vraag altijd kunnen op de politie me stoppen [end]\n",
            "-\n",
            "Does Tom like spinach?\n",
            "[start] vindt tom leuk om dezelfde dezelfde heeft tom [end]\n",
            "-\n",
            "Your problem is similar to mine.\n",
            "[start] uw probleem is op die van mij [end]\n",
            "-\n",
            "Do you want to know what I see?\n",
            "[start] wil je weten wat ik gezien moet [end]\n",
            "-\n",
            "It's seven o'clock.\n",
            "[start] het is zeven uur gemaakt [end]\n",
            "-\n",
            "Let me take your temperature.\n",
            "[start] laat me bij je lunch maken [end]\n",
            "-\n",
            "Who's the author of this book?\n",
            "[start] wie is de [end]\n"
          ]
        }
      ]
    },
    {
      "cell_type": "markdown",
      "id": "543b61e9",
      "metadata": {
        "id": "543b61e9"
      },
      "source": [
        "### Deel 2\n",
        "\n",
        "We willen dit model nu verbeteren. Bedenk een (mogelijke) verbetering, voer deze uit een licht het volgende toe:\n",
        "\n",
        "- Welke verbetering je uitvoert en waarom je denkt dat dit voor een verbetering zal zorgen\n",
        "- Welke maat je gebruikt om de verbetering te meten, en waarom\n",
        "- Hoeveel je model verbeterd (of verslechterd) is\n",
        "- In het geval van geen verbetering, een mogelijke verklaring waarom het niet werkte.\n",
        "\n",
        "Houd je antwoorden kort en bondig."
      ]
    },
    {
      "cell_type": "markdown",
      "source": [
        "# The change: theory"
      ],
      "metadata": {
        "id": "lX_nUCXsuuFF"
      },
      "id": "lX_nUCXsuuFF"
    },
    {
      "cell_type": "markdown",
      "source": [
        "Chollet uses the RMSProp optimizer in his code (2021). Using the Adam optimization algorithm may help the model converge faster and potentially achieve better performance than using the default optimizer. Adam combines the advantages of both SGD and RMSProp, and can adaptively adjust the learning rates of different parameters in the model based on the historical gradient information. This can help the model avoid getting stuck in suboptimal solutions and improve its convergence.\n",
        "\n",
        "Chollet's model achieves an accuracy of 0.8811 with the RMSProp optimizer. Lets see if we can achieve a better accuracy with the Adam optimizer."
      ],
      "metadata": {
        "id": "_5eRPWi8_ony"
      },
      "id": "_5eRPWi8_ony"
    },
    {
      "cell_type": "markdown",
      "source": [
        "# The change: practical"
      ],
      "metadata": {
        "id": "qwkZrOihuwjl"
      },
      "id": "qwkZrOihuwjl"
    },
    {
      "cell_type": "code",
      "execution_count": 7,
      "id": "b6a6218a",
      "metadata": {
        "id": "b6a6218a"
      },
      "outputs": [],
      "source": [
        "class TransformerEncoder(layers.Layer):\n",
        "    def __init__(self, embed_dim, dense_dim, num_heads, **kwargs):\n",
        "        super().__init__(**kwargs)\n",
        "        self.embed_dim = embed_dim\n",
        "        self.dense_dim = dense_dim\n",
        "        self.num_heads = num_heads\n",
        "        self.attention = layers.MultiHeadAttention(\n",
        "            num_heads=num_heads, key_dim=embed_dim)\n",
        "        self.dense_proj = tf.keras.Sequential(\n",
        "            [layers.Dense(dense_dim, activation='relu'),\n",
        "             layers.Dense(embed_dim),]\n",
        "        )\n",
        "        self.layernorm_1 = layers.LayerNormalization()\n",
        "        self.layernorm_2 = layers.LayerNormalization()\n",
        "\n",
        "    def call(self, inputs, mask=None):\n",
        "        if mask is not None:\n",
        "            mask = mask[:, tf.newaxis, :]\n",
        "        attention_output = self.attention(\n",
        "            inputs, inputs, attention_mask=mask)\n",
        "        proj_input = self.layernorm_1(inputs + attention_output)\n",
        "        proj_output = self.dense_proj(proj_input)\n",
        "        return self.layernorm_2(proj_input + proj_output)\n",
        "\n",
        "    def get_config(self):\n",
        "        config = super().get_config()\n",
        "        config.update({\n",
        "            \"embed_dim\": self.embed_dim,\n",
        "            \"num_heads\": self.num_heads,\n",
        "            \"dense_dim\": self.dense_dim,\n",
        "        })\n",
        "        return config\n",
        "\n",
        "class TransformerDecoder(layers.Layer):\n",
        "    def __init__(self, embed_dim, dense_dim, num_heads, **kwargs):\n",
        "        super().__init__(**kwargs)\n",
        "        self.embed_dim = embed_dim\n",
        "        self.dense_dim = dense_dim\n",
        "        self.num_heads = num_heads\n",
        "        self.attention_1 = layers.MultiHeadAttention(\n",
        "            num_heads=num_heads, key_dim=embed_dim)\n",
        "        self.attention_2 = layers.MultiHeadAttention(\n",
        "            num_heads=num_heads, key_dim=embed_dim)\n",
        "        self.dense_proj = tf.keras.Sequential(\n",
        "            [layers.Dense(dense_dim, activation='relu'),\n",
        "             layers.Dense(embed_dim),]\n",
        "        )\n",
        "        self.layernorm_1 = layers.LayerNormalization()\n",
        "        self.layernorm_2 = layers.LayerNormalization()\n",
        "        self.layernorm_3 = layers.LayerNormalization()\n",
        "        self.supports_masking = True\n",
        "\n",
        "    def get_config(self):\n",
        "        config = super().get_config()\n",
        "        config.update({\n",
        "            \"embed_dim\": self.embed_dim,\n",
        "            \"num_heads\": self.num_heads,\n",
        "            \"dense_dim\": self.dense_dim,\n",
        "        })\n",
        "        return config\n",
        "\n",
        "    def get_causal_attention_mask(self, inputs):\n",
        "        input_shape = tf.shape(inputs)\n",
        "        batch_size, sequence_length = input_shape[0], input_shape[1]\n",
        "        i = tf.range(sequence_length)[:, tf.newaxis]\n",
        "        j = tf.range(sequence_length)\n",
        "        mask = tf.cast(i >= j, dtype=\"int32\")\n",
        "        mask = tf.reshape(mask, (1, input_shape[1], input_shape[1]))\n",
        "        mult = tf.concat(\n",
        "            [tf.expand_dims(batch_size, -1),\n",
        "             tf.constant([1, 1], dtype=tf.int32)], axis=0)\n",
        "        return tf.tile(mask, mult)\n",
        "\n",
        "    def call(self, inputs, encoder_outputs, mask=None):\n",
        "        causal_mask = self.get_causal_attention_mask(inputs)\n",
        "        if mask is not None:\n",
        "            padding_mask = tf.cast(\n",
        "                mask[:, tf.newaxis, :], dtype=\"int32\")\n",
        "            padding_mask = tf.minimum(padding_mask, causal_mask)\n",
        "        attention_output_1 = self.attention_1(\n",
        "            query=inputs,\n",
        "            value=inputs,\n",
        "            key=inputs,\n",
        "            attention_mask=causal_mask)\n",
        "        attention_output_1 = self.layernorm_1(inputs + attention_output_1)\n",
        "        attention_output_2 = self.attention_2(\n",
        "            query=attention_output_1,\n",
        "            value=encoder_outputs,\n",
        "            key=encoder_outputs,\n",
        "            attention_mask=padding_mask,\n",
        "        )\n",
        "        attention_output_2 = self.layernorm_2(\n",
        "            attention_output_1 + attention_output_2)\n",
        "        proj_output = self.dense_proj(attention_output_2)\n",
        "        return self.layernorm_3(attention_output_2 + proj_output)\n",
        "\n",
        "class PositionalEmbedding(layers.Layer):\n",
        "    def __init__(self, sequence_length, input_dim, output_dim, **kwargs):\n",
        "        super().__init__(**kwargs)\n",
        "        self.token_embeddings = layers.Embedding(\n",
        "            input_dim=input_dim, output_dim=output_dim)\n",
        "        self.position_embeddings = layers.Embedding(\n",
        "            input_dim=sequence_length, output_dim=output_dim)\n",
        "        self.sequence_length = sequence_length\n",
        "        self.input_dim = input_dim\n",
        "        self.output_dim = output_dim\n",
        "\n",
        "    def call(self, inputs):\n",
        "        length = tf.shape(inputs)[-1]\n",
        "        positions = tf.range(start=0, limit=length, delta=1)\n",
        "        embedded_tokens = self.token_embeddings(inputs)\n",
        "        embedded_positions = self.position_embeddings(positions)\n",
        "        return embedded_tokens + embedded_positions\n",
        "\n",
        "    def compute_mask(self, inputs, mask=None):\n",
        "        return tf.math.not_equal(inputs, 0)\n",
        "\n",
        "    def get_config(self):\n",
        "        config = super(PositionalEmbedding, self).get_config()\n",
        "        config.update({\n",
        "            \"output_dim\": self.output_dim,\n",
        "            \"sequence_length\": self.sequence_length,\n",
        "            \"input_dim\": self.input_dim,\n",
        "        })\n",
        "        return config\n",
        "\n",
        "import tensorflow as tf\n",
        "from tensorflow import keras\n",
        "from tensorflow.keras import layers, Sequential\n",
        "from tensorflow.keras.layers import LayerNormalization\n",
        "\n",
        "embed_dim = 256\n",
        "dense_dim = 2048\n",
        "num_heads = 8\n",
        "\n",
        "encoder_inputs = tf.keras.Input(shape=(None,), dtype=\"int64\", name=\"english\")\n",
        "x = PositionalEmbedding(sequence_length, vocab_size, embed_dim)(encoder_inputs)\n",
        "encoder_outputs = TransformerEncoder(embed_dim, dense_dim, num_heads)(x)\n",
        "\n",
        "decoder_inputs = tf.keras.Input(shape=(None,), dtype=\"int64\", name=\"dutch\")\n",
        "x = PositionalEmbedding(sequence_length, vocab_size, embed_dim)(decoder_inputs)\n",
        "x = TransformerDecoder(embed_dim, dense_dim, num_heads)(x, encoder_outputs)\n",
        "x = layers.Dropout(0.5)(x)\n",
        "decoder_outputs = tf.keras.layers.Dense(vocab_size, activation=\"softmax\")(x)\n",
        "transformer = tf.keras.Model([encoder_inputs, decoder_inputs], decoder_outputs)"
      ]
    },
    {
      "cell_type": "code",
      "execution_count": 8,
      "id": "af10ee8b",
      "metadata": {
        "id": "af10ee8b",
        "colab": {
          "base_uri": "https://localhost:8080/"
        },
        "outputId": "3cc5110c-6199-455d-884c-4f7ceaa8bc7f"
      },
      "outputs": [
        {
          "output_type": "stream",
          "name": "stdout",
          "text": [
            "Epoch 1/20\n",
            "772/772 [==============================] - 57s 69ms/step - loss: 1.6717 - accuracy: 0.7618 - val_loss: 1.1124 - val_accuracy: 0.8233\n",
            "Epoch 2/20\n",
            "772/772 [==============================] - 53s 69ms/step - loss: 0.9546 - accuracy: 0.8427 - val_loss: 0.8273 - val_accuracy: 0.8613\n",
            "Epoch 3/20\n",
            "772/772 [==============================] - 53s 69ms/step - loss: 0.7186 - accuracy: 0.8711 - val_loss: 0.7167 - val_accuracy: 0.8772\n",
            "Epoch 4/20\n",
            "772/772 [==============================] - 54s 69ms/step - loss: 0.5850 - accuracy: 0.8871 - val_loss: 0.6747 - val_accuracy: 0.8831\n",
            "Epoch 5/20\n",
            "772/772 [==============================] - 53s 69ms/step - loss: 0.4969 - accuracy: 0.8984 - val_loss: 0.6532 - val_accuracy: 0.8875\n",
            "Epoch 6/20\n",
            "772/772 [==============================] - 53s 69ms/step - loss: 0.4308 - accuracy: 0.9073 - val_loss: 0.6459 - val_accuracy: 0.8896\n",
            "Epoch 7/20\n",
            "772/772 [==============================] - 56s 73ms/step - loss: 0.3823 - accuracy: 0.9143 - val_loss: 0.6452 - val_accuracy: 0.8918\n",
            "Epoch 8/20\n",
            "772/772 [==============================] - 54s 70ms/step - loss: 0.3405 - accuracy: 0.9213 - val_loss: 0.6536 - val_accuracy: 0.8929\n",
            "Epoch 9/20\n",
            "772/772 [==============================] - 53s 69ms/step - loss: 0.3096 - accuracy: 0.9264 - val_loss: 0.6647 - val_accuracy: 0.8928\n",
            "Epoch 10/20\n",
            "772/772 [==============================] - 53s 69ms/step - loss: 0.2850 - accuracy: 0.9312 - val_loss: 0.6700 - val_accuracy: 0.8940\n",
            "Epoch 11/20\n",
            "772/772 [==============================] - 54s 69ms/step - loss: 0.2641 - accuracy: 0.9350 - val_loss: 0.6797 - val_accuracy: 0.8946\n",
            "Epoch 12/20\n",
            "772/772 [==============================] - 57s 74ms/step - loss: 0.2451 - accuracy: 0.9390 - val_loss: 0.6887 - val_accuracy: 0.8958\n",
            "Epoch 13/20\n",
            "772/772 [==============================] - 54s 70ms/step - loss: 0.2305 - accuracy: 0.9418 - val_loss: 0.6977 - val_accuracy: 0.8956\n",
            "Epoch 14/20\n",
            "772/772 [==============================] - 55s 71ms/step - loss: 0.2177 - accuracy: 0.9440 - val_loss: 0.7047 - val_accuracy: 0.8952\n",
            "Epoch 15/20\n",
            "772/772 [==============================] - 54s 70ms/step - loss: 0.2050 - accuracy: 0.9468 - val_loss: 0.7151 - val_accuracy: 0.8957\n",
            "Epoch 16/20\n",
            "772/772 [==============================] - 54s 70ms/step - loss: 0.1933 - accuracy: 0.9492 - val_loss: 0.7240 - val_accuracy: 0.8962\n",
            "Epoch 17/20\n",
            "772/772 [==============================] - 54s 69ms/step - loss: 0.1847 - accuracy: 0.9512 - val_loss: 0.7412 - val_accuracy: 0.8962\n",
            "Epoch 18/20\n",
            "772/772 [==============================] - 53s 69ms/step - loss: 0.1761 - accuracy: 0.9529 - val_loss: 0.7536 - val_accuracy: 0.8968\n",
            "Epoch 19/20\n",
            "772/772 [==============================] - 53s 69ms/step - loss: 0.1675 - accuracy: 0.9548 - val_loss: 0.7558 - val_accuracy: 0.8969\n",
            "Epoch 20/20\n",
            "772/772 [==============================] - 53s 69ms/step - loss: 0.1606 - accuracy: 0.9565 - val_loss: 0.7681 - val_accuracy: 0.8955\n"
          ]
        }
      ],
      "source": [
        "transformer.compile(\n",
        "    optimizer=\"adam\",\n",
        "    loss=\"sparse_categorical_crossentropy\",\n",
        "    metrics=[\"accuracy\"])\n",
        "history = transformer.fit(train_ds, epochs=20, validation_data=val_ds)"
      ]
    },
    {
      "cell_type": "code",
      "source": [
        "import matplotlib.pyplot as plt\n",
        "\n",
        "loss_train = history.history['loss']\n",
        "loss_val = history.history['val_loss']\n",
        "epochs = range(1,21)\n",
        "plt.plot(epochs, loss_train, 'g', label='Training loss')\n",
        "plt.plot(epochs, loss_val, 'b', label='validation loss')\n",
        "plt.title('Training and Validation loss')\n",
        "plt.xlabel('Epochs')\n",
        "plt.ylabel('Loss')\n",
        "plt.legend()\n",
        "plt.show()\n",
        "\n",
        "loss_train = history.history['accuracy']\n",
        "loss_val = history.history['val_accuracy']\n",
        "epochs = range(1,21)\n",
        "plt.plot(epochs, loss_train, 'g', label='Training accuracy')\n",
        "plt.plot(epochs, loss_val, 'b', label='validation accuracy')\n",
        "plt.title('Training and Validation accuracy')\n",
        "plt.xlabel('Epochs')\n",
        "plt.ylabel('Accuracy')\n",
        "plt.legend()\n",
        "plt.show()"
      ],
      "metadata": {
        "id": "JqrWq1FAZZRQ",
        "colab": {
          "base_uri": "https://localhost:8080/",
          "height": 573
        },
        "outputId": "85ac905f-88ee-4de3-a969-5ff3e551c255"
      },
      "id": "JqrWq1FAZZRQ",
      "execution_count": 9,
      "outputs": [
        {
          "output_type": "display_data",
          "data": {
            "text/plain": [
              "<Figure size 432x288 with 1 Axes>"
            ],
            "image/png": "[encoded data removed]"
          },
          "metadata": {
            "needs_background": "light"
          }
        },
        {
          "output_type": "display_data",
          "data": {
            "text/plain": [
              "<Figure size 432x288 with 1 Axes>"
            ],
            "image/png": "[encoded data removed]"
          },
          "metadata": {
            "needs_background": "light"
          }
        }
      ]
    },
    {
      "cell_type": "code",
      "source": [
        "test_acc = transformer.evaluate(test_ds)"
      ],
      "metadata": {
        "colab": {
          "base_uri": "https://localhost:8080/"
        },
        "id": "Bq412_GI4pBG",
        "outputId": "44a087aa-357c-4351-fa73-48fe1042f5a4"
      },
      "id": "Bq412_GI4pBG",
      "execution_count": 10,
      "outputs": [
        {
          "output_type": "stream",
          "name": "stdout",
          "text": [
            "166/166 [==============================] - 6s 35ms/step - loss: 0.7687 - accuracy: 0.8953\n"
          ]
        }
      ]
    },
    {
      "cell_type": "code",
      "source": [
        "import numpy as np\n",
        "random.seed(10)\n",
        "\n",
        "nld_vocab = target_vectorization.get_vocabulary()\n",
        "nld_index_lookup = dict(zip(range(len(nld_vocab)), nld_vocab))\n",
        "max_decoded_sentence_length = 20\n",
        "\n",
        "def decode_sequence(input_sentence):\n",
        "    tokenized_input_sentence = source_vectorization([input_sentence])\n",
        "    decoded_sentence = \"[start]\"\n",
        "    for i in range(max_decoded_sentence_length):\n",
        "        tokenized_target_sentence = target_vectorization(\n",
        "            [decoded_sentence])[:, :-1]\n",
        "        predictions = transformer(\n",
        "            [tokenized_input_sentence, tokenized_target_sentence])\n",
        "        sampled_token_index = np.argmax(predictions[0, i, :])\n",
        "        sampled_token = nld_index_lookup[sampled_token_index]\n",
        "        decoded_sentence += \" \" + sampled_token\n",
        "        if sampled_token == \"[end]\":\n",
        "            break\n",
        "    return decoded_sentence\n",
        "\n",
        "test_eng_texts = [pair[0] for pair in test_pairs]\n",
        "for _ in range(20):\n",
        "    input_sentence = random.choice(test_eng_texts)\n",
        "    print(\"-\")\n",
        "    print(input_sentence)\n",
        "    print(decode_sequence(input_sentence))"
      ],
      "metadata": {
        "colab": {
          "base_uri": "https://localhost:8080/"
        },
        "id": "mvp_i3heKjb2",
        "outputId": "7b304160-afe2-4a89-d397-3d25e7fa9fed"
      },
      "id": "mvp_i3heKjb2",
      "execution_count": 12,
      "outputs": [
        {
          "output_type": "stream",
          "name": "stdout",
          "text": [
            "-\n",
            "Tom and Mary moved to Australia.\n",
            "[start] tom en maria naar australië verhuisd [end]\n",
            "-\n",
            "How did you convince them?\n",
            "[start] hoe heeft u gevraagd ze [end]\n",
            "-\n",
            "Don't make fun of foreigners.\n",
            "[start] maak geen schrik om buitenlanders [end]\n",
            "-\n",
            "I like classical music.\n",
            "[start] ik hou van klassieke muziek [end]\n",
            "-\n",
            "Tom's insane.\n",
            "[start] tom is waanzinnig [end]\n",
            "-\n",
            "I love chicken.\n",
            "[start] ik hou van kip [end]\n",
            "-\n",
            "I can't think of any place I'd rather be.\n",
            "[start] ik kan niet zo veel mogelijk [end]\n",
            "-\n",
            "I wish I could buy that guitar.\n",
            "[start] ik wou dat ik de wijn kon kopen [end]\n",
            "-\n",
            "The wind changed directions.\n",
            "[start] de wind veranderde van richting [end]\n",
            "-\n",
            "This skirt is a little too tight.\n",
            "[start] deze rok is een beetje te strak [end]\n",
            "-\n",
            "I was tired from the work.\n",
            "[start] ik was moe van het werk [end]\n",
            "-\n",
            "Tom has been recalled.\n",
            "[start] tom is al te vergiftigen [end]\n",
            "-\n",
            "Gasoline is used for fuel.\n",
            "[start] benzine is brandstof gebruikt [end]\n",
            "-\n",
            "I asked Tom to wait.\n",
            "[start] ik vroeg tom om te wachten [end]\n",
            "-\n",
            "Tom took another look into the box.\n",
            "[start] tom keek nog een blik op de doos [end]\n",
            "-\n",
            "Tom isn't likely to be cooperative.\n",
            "[start] tom is niet waarschijnlijk te werken [end]\n",
            "-\n",
            "Compared with his brother, he is not so intelligent.\n",
            "[start] vergeleek met zijn broer hij is niet zo intelligent [end]\n",
            "-\n",
            "I wish that I could give you something.\n",
            "[start] ik wou dat ik u iets kon geven [end]\n",
            "-\n",
            "All I want is you.\n",
            "[start] je wil je allemaal [end]\n",
            "-\n",
            "I need to buy stamps.\n",
            "[start] ik moet postzegels kopen [end]\n"
          ]
        }
      ]
    },
    {
      "cell_type": "markdown",
      "source": [
        "# Evaluatie"
      ],
      "metadata": {
        "id": "m7Nbzsw1uo4C"
      },
      "id": "m7Nbzsw1uo4C"
    },
    {
      "cell_type": "markdown",
      "source": [
        "The improved model scores a test accuracy of 0.8953 instead of Chollet's 0.8811. De sentences are about the same for both models. So using the Adam optimizer is an improvement for the Transformer model. \n",
        "\n",
        "I also tried using the GELU activation function instead of ReLU, since GELU is used in most of the Transformer models. But the models accuracy is decreasing when using GELU."
      ],
      "metadata": {
        "id": "_qdff0GVDjw1"
      },
      "id": "_qdff0GVDjw1"
    }
  ],
  "metadata": {
    "kernelspec": {
      "display_name": "Python 3 (ipykernel)",
      "language": "python",
      "name": "python3"
    },
    "language_info": {
      "codemirror_mode": {
        "name": "ipython",
        "version": 3
      },
      "file_extension": ".py",
      "mimetype": "text/x-python",
      "name": "python",
      "nbconvert_exporter": "python",
      "pygments_lexer": "ipython3",
      "version": "3.9.12"
    },
    "toc": {
      "base_numbering": 1,
      "nav_menu": {},
      "number_sections": false,
      "sideBar": true,
      "skip_h1_title": true,
      "title_cell": "Table of Contents",
      "title_sidebar": "Contents",
      "toc_cell": false,
      "toc_position": {},
      "toc_section_display": true,
      "toc_window_display": false
    },
    "colab": {
      "provenance": []
    },
    "gpuClass": "standard",
    "accelerator": "GPU"
  },
  "nbformat": 4,
  "nbformat_minor": 5
}